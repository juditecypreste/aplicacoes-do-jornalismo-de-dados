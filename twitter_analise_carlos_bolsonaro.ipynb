{
 "cells": [
  {
   "cell_type": "code",
   "execution_count": null,
   "metadata": {},
   "outputs": [],
   "source": [
    "# Importação de bibliotecas e módulos\n",
    "import pandas as pd\n",
    "import numpy as np\n",
    "from unidecode import unidecode"
   ]
  },
  {
   "cell_type": "code",
   "execution_count": null,
   "metadata": {},
   "outputs": [],
   "source": [
    "# Define função de checagem de df\n",
    "def check_df(df):\n",
    "    \"\"\" exibe primeiras linhas inteiras do dataframe e suas quantidades de linhas e colunas.\n",
    "    INPUT:\n",
    "    df - o dataframe analisado\n",
    "    OUTPUT:\n",
    "    exibe as 10 primeiras linhas do dataframe e imprime:\n",
    "    \"O dataframe possui {} linhas e {} colunas\", com os totais de linhas e colunas.\n",
    "    \"\"\"\n",
    "    pd.set_option('display.max_colwidth', -1)\n",
    "    display(df.head(5))\n",
    "    display(df.tail(5))\n",
    "    print(\"O dataframe possui {} linhas e {} colunas\".format(df.shape[0],df.shape[1]))\n",
    "    pd.reset_option('display.max_colwidth')"
   ]
  },
  {
   "cell_type": "code",
   "execution_count": null,
   "metadata": {
    "scrolled": false
   },
   "outputs": [],
   "source": [
    "# Carrega conjunto de dados\n",
    "df = pd.read_csv(\"tuites_carlos.csv\", ',', encoding=\"utf-8\", low_memory=False)"
   ]
  },
  {
   "cell_type": "code",
   "execution_count": null,
   "metadata": {},
   "outputs": [],
   "source": [
    "# Apagando o que não quero\n",
    "df.drop(['Unnamed: 4', 'Unnamed: 5'], axis=1, inplace=True)"
   ]
  },
  {
   "cell_type": "code",
   "execution_count": null,
   "metadata": {},
   "outputs": [],
   "source": [
    "df.columns = 'USER', \"TWEET\", 'LINK', 'DATA'"
   ]
  },
  {
   "cell_type": "code",
   "execution_count": null,
   "metadata": {
    "scrolled": false
   },
   "outputs": [],
   "source": [
    "check_df(df)"
   ]
  },
  {
   "cell_type": "code",
   "execution_count": null,
   "metadata": {},
   "outputs": [],
   "source": [
    "# Retirando acentos\n",
    "df.TWEET = df.TWEET.apply(unidecode)"
   ]
  },
  {
   "cell_type": "code",
   "execution_count": null,
   "metadata": {},
   "outputs": [],
   "source": [
    "# Deixando tudo em caixa baixa\n",
    "df.TWEET = df['TWEET'].str.lower()"
   ]
  },
  {
   "cell_type": "code",
   "execution_count": null,
   "metadata": {},
   "outputs": [],
   "source": [
    "check_df(df)"
   ]
  },
  {
   "cell_type": "code",
   "execution_count": null,
   "metadata": {},
   "outputs": [],
   "source": [
    "# Define função Caça Palavra\n",
    "def caça_palavra(df):\n",
    "    \"\"\" exibe primeiras linhas inteiras do dataframe e suas quantidades de linhas e colunas.\n",
    "    INPUT:\n",
    "    df - o dataframe analisado\n",
    "    OUTPUT:\n",
    "    exibe as 10 primeiras linhas do dataframe e imprime:\n",
    "    \"O dataframe possui {} linhas e {} colunas\", com os totais de linhas e colunas.\n",
    "    \"\"\"\n",
    "    pd.set_option('display.max_colwidth', -1)\n",
    "    pd.set_option('display.max_rows', None)\n",
    "    pd.set_option('display.max_columns', None)\n",
    "    palavra = input(\"Insira a palavra que você quer pesquisar: \")\n",
    "    palavra = palavra.lower()\n",
    "    palavra = \"\\\\b\" + palavra + \"\\\\b\"\n",
    "    procura = df[ df.TWEET.str.contains(palavra, regex = True)]\n",
    "    display(procura)\n",
    "    print(f\"O dataframe contém {procura.shape[0]} linhas e {procura.shape[1]} colunas\" )\n",
    "    pd.reset_option('display.max_colwidth')"
   ]
  },
  {
   "cell_type": "code",
   "execution_count": null,
   "metadata": {
    "scrolled": false
   },
   "outputs": [],
   "source": [
    "caça_palavra(df)"
   ]
  }
 ],
 "metadata": {
  "kernelspec": {
   "display_name": "Python 3",
   "language": "python",
   "name": "python3"
  },
  "language_info": {
   "codemirror_mode": {
    "name": "ipython",
    "version": 3
   },
   "file_extension": ".py",
   "mimetype": "text/x-python",
   "name": "python",
   "nbconvert_exporter": "python",
   "pygments_lexer": "ipython3",
   "version": "3.8.1"
  }
 },
 "nbformat": 4,
 "nbformat_minor": 2
}
