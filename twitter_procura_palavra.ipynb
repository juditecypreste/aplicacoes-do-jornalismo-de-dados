{
 "cells": [
  {
   "cell_type": "markdown",
   "metadata": {},
   "source": [
    "Abraham Weintraub"
   ]
  },
  {
   "cell_type": "code",
   "execution_count": null,
   "metadata": {},
   "outputs": [],
   "source": [
    "# Raspando tuítes do Ministro da Educação Abraham Weintraub\n",
    "from twitter_scraper import get_tweets\n",
    "tuites = []\n",
    "for t in get_tweets('@CarlosBolsonaro'):\n",
    "    tuites.append(t[\"text\"])\n",
    "# Procurando a palavra 'maconha' entre os tuítes    \n",
    "qtd = 0\n",
    "for item in tuites:\n",
    "    for palavra in item.lower().split(\" \"):\n",
    "        if palavra == \"adriano\".lower():\n",
    "            print(item)\n",
    "            print(\"-\"*20)\n",
    "            qtd += 1   "
   ]
  },
  {
   "cell_type": "markdown",
   "metadata": {},
   "source": [
    "Damares Alves"
   ]
  },
  {
   "cell_type": "code",
   "execution_count": null,
   "metadata": {},
   "outputs": [],
   "source": [
    "# Raspando tuítes da Ministra da Mulher, da Família e dos Direitos Humanos Damares Alves\n",
    "from twitter_scraper import get_tweets\n",
    "tuites = []\n",
    "for t in  get_tweets('DamaresAlves'):\n",
    "    tuites.append(t[\"text\"])\n",
    "# Procurando a palavra 'jornalista' entre os tuítes  \n",
    "qtd = 0\n",
    "for item in tuites:\n",
    "    for palavra in item.lower().split(\" \"):\n",
    "        if palavra == \"jornalista\".lower():\n",
    "            print(item)\n",
    "            print(\"-\"*20)\n",
    "            qtd += 1   "
   ]
  },
  {
   "cell_type": "markdown",
   "metadata": {},
   "source": [
    "Janaina Paschoal"
   ]
  },
  {
   "cell_type": "code",
   "execution_count": null,
   "metadata": {},
   "outputs": [],
   "source": [
    "# Raspando tuítes da Deputada Estadual Janaina Paschoal\n",
    "from twitter_scraper import get_tweets\n",
    "tuites = []\n",
    "for t in  get_tweets('JanainaDoBrasil'):\n",
    "    tuites.append(t[\"text\"])\n",
    "# Procurando a palavra 'jornalista' entre os tuítes \n",
    "qtd = 0\n",
    "for item in tuites:\n",
    "    for palavra in item.lower().split(\" \"):\n",
    "        if palavra == \"Bolsonaro\".lower():\n",
    "            print(item)\n",
    "            print(\"-\"*20)\n",
    "            qtd += 1   "
   ]
  },
  {
   "cell_type": "markdown",
   "metadata": {},
   "source": [
    "Olavo de Carvalho"
   ]
  },
  {
   "cell_type": "code",
   "execution_count": null,
   "metadata": {},
   "outputs": [],
   "source": [
    "# Raspando tuítes do escritor Olavo de Carvalho\n",
    "from twitter_scraper import get_tweets\n",
    "tuites = []\n",
    "for t in  get_tweets('FlavioBolsonaro'):\n",
    "    d = {'text':t['text'], 'likes':t['likes']}\n",
    "    tuites.append(d)\n",
    "# Fazendo contagem dos tuítes mais curtidos    \n",
    "def criterio(tuite): return tuite['likes']\n",
    "tuites_ordenados = sorted(tuites, key=criterio, reverse=True)\n",
    "for t in tuites_ordenados:\n",
    "    print (t['text'], t['likes'])\n",
    "    print(\"-\"*20)"
   ]
  }
 ],
 "metadata": {
  "kernelspec": {
   "display_name": "Python 3",
   "language": "python",
   "name": "python3"
  },
  "language_info": {
   "codemirror_mode": {
    "name": "ipython",
    "version": 3
   },
   "file_extension": ".py",
   "mimetype": "text/x-python",
   "name": "python",
   "nbconvert_exporter": "python",
   "pygments_lexer": "ipython3",
   "version": "3.8.1"
  }
 },
 "nbformat": 4,
 "nbformat_minor": 2
}
