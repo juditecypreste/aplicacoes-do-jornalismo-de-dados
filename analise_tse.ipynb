{
 "cells": [
  {
   "cell_type": "code",
   "execution_count": null,
   "metadata": {},
   "outputs": [],
   "source": [
    "# Importação de bibliotecas e módulos\n",
    "import pandas as pd\n",
    "import numpy as np"
   ]
  },
  {
   "cell_type": "code",
   "execution_count": null,
   "metadata": {},
   "outputs": [],
   "source": [
    "# Me mostre tudo (colunas e linhas)\n",
    "pd.set_option('display.max_rows', None)\n",
    "pd.set_option('display.max_columns', None)"
   ]
  },
  {
   "cell_type": "code",
   "execution_count": null,
   "metadata": {},
   "outputs": [],
   "source": [
    "# Define função de checagem de df\n",
    "def check_df(df):\n",
    "    \"\"\" exibe primeiras linhas do dataframe e suas quantidades de linhas e colunas.\n",
    "    INPUT:\n",
    "    df - o dataframe analisado\n",
    "    OUTPUT:\n",
    "    exibe as 3 primeiras linhas do dataframe e imprime:\n",
    "    \"O dataframe possui {} linhas e {} colunas\", com os totais de linhas e colunas.    \n",
    "    \"\"\"\n",
    "    display(df.head(10))\n",
    "    display(df.tail(10))\n",
    "    print(\"O dataframe possui {} linhas e {} colunas\".format(df.shape[0],df.shape[1]))"
   ]
  },
  {
   "cell_type": "code",
   "execution_count": null,
   "metadata": {},
   "outputs": [],
   "source": [
    "profissoes = pd.read_csv(\"ocupacao_cargo.csv\", delimiter =';', encoding='latin-1')"
   ]
  },
  {
   "cell_type": "code",
   "execution_count": null,
   "metadata": {},
   "outputs": [],
   "source": [
    "check_df(profissoes)"
   ]
  },
  {
   "cell_type": "code",
   "execution_count": null,
   "metadata": {},
   "outputs": [],
   "source": [
    "# Apagando o que não quero\n",
    "profissoes.drop(['Porcentagem (%)', 'Unnamed: 5', 'Abrangência'], axis=1, inplace=True) "
   ]
  },
  {
   "cell_type": "code",
   "execution_count": null,
   "metadata": {},
   "outputs": [],
   "source": [
    "# Conferindo se todos os cargos estão aqui\n",
    "profissoes[\"Cargo\"].unique() "
   ]
  },
  {
   "cell_type": "code",
   "execution_count": null,
   "metadata": {},
   "outputs": [],
   "source": [
    "Presidente = profissoes.loc[profissoes['Cargo']=='Presidente'] #selecionando apenas cargo de Presidente"
   ]
  },
  {
   "cell_type": "code",
   "execution_count": null,
   "metadata": {},
   "outputs": [],
   "source": [
    "Presidente.sort_values(by = \"Quantitativo\", ascending = False) #ver em ordem de > para <"
   ]
  },
  {
   "cell_type": "code",
   "execution_count": null,
   "metadata": {},
   "outputs": [],
   "source": [
    "genero = pd.read_csv(\"ocupacao_genero.csv\", delimiter =';', encoding='latin-1')"
   ]
  },
  {
   "cell_type": "code",
   "execution_count": null,
   "metadata": {},
   "outputs": [],
   "source": [
    "check_df(genero)"
   ]
  },
  {
   "cell_type": "code",
   "execution_count": null,
   "metadata": {},
   "outputs": [],
   "source": [
    "genero.drop(['Porcentagem (%)', 'Unnamed: 5', 'Abrangência'], axis=1, inplace=True) #apagando o que não quero"
   ]
  },
  {
   "cell_type": "code",
   "execution_count": null,
   "metadata": {},
   "outputs": [],
   "source": [
    "genero[\"Gênero\"].unique() #me mostre o que tem"
   ]
  },
  {
   "cell_type": "code",
   "execution_count": null,
   "metadata": {},
   "outputs": [],
   "source": [
    "feminino = genero.loc[genero['Gênero']=='Feminino'] #selecionando apenas o gênero feminino"
   ]
  },
  {
   "cell_type": "code",
   "execution_count": null,
   "metadata": {},
   "outputs": [],
   "source": [
    "feminino.sort_values(by = \"Quantitativo\", ascending = False) #ver em ordem de > para <"
   ]
  },
  {
   "cell_type": "code",
   "execution_count": null,
   "metadata": {},
   "outputs": [],
   "source": [
    "masculino = genero.loc[genero['Gênero']=='Masculino'] #selecionando apenas o gênero masculino"
   ]
  },
  {
   "cell_type": "code",
   "execution_count": null,
   "metadata": {},
   "outputs": [],
   "source": [
    "masculino.sort_values(by = \"Quantitativo\", ascending = False) #ver em ordem de > para <"
   ]
  }
 ],
 "metadata": {
  "kernelspec": {
   "display_name": "Python 3",
   "language": "python",
   "name": "python3"
  },
  "language_info": {
   "codemirror_mode": {
    "name": "ipython",
    "version": 3
   },
   "file_extension": ".py",
   "mimetype": "text/x-python",
   "name": "python",
   "nbconvert_exporter": "python",
   "pygments_lexer": "ipython3",
   "version": "3.8.1"
  }
 },
 "nbformat": 4,
 "nbformat_minor": 2
}
